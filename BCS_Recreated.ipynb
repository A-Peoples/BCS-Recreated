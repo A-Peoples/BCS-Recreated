{
  "nbformat": 4,
  "nbformat_minor": 0,
  "metadata": {
    "colab": {
      "provenance": [],
      "authorship_tag": "ABX9TyMH+HISVaWlLQY5rgNlWUqx",
      "include_colab_link": true
    },
    "kernelspec": {
      "name": "python3",
      "display_name": "Python 3"
    },
    "language_info": {
      "name": "python"
    }
  },
  "cells": [
    {
      "cell_type": "markdown",
      "metadata": {
        "id": "view-in-github",
        "colab_type": "text"
      },
      "source": [
        "<a href=\"https://colab.research.google.com/github/A-Peoples/BCS-Recreated/blob/main/BCS_Recreated.ipynb\" target=\"_parent\"><img src=\"https://colab.research.google.com/assets/colab-badge.svg\" alt=\"Open In Colab\"/></a>"
      ]
    },
    {
      "cell_type": "markdown",
      "source": [
        "**Importing Packages**"
      ],
      "metadata": {
        "id": "shQoCe50mSl2"
      }
    },
    {
      "cell_type": "markdown",
      "source": [
        "**Get Your key here: https://collegefootballdata.com/key**"
      ],
      "metadata": {
        "id": "OwXmv_9PmhS7"
      }
    },
    {
      "cell_type": "code",
      "execution_count": 4,
      "metadata": {
        "colab": {
          "base_uri": "https://localhost:8080/"
        },
        "id": "KqvSF4lkmnDL",
        "outputId": "f5ca9a05-8c2b-46e3-a569-f21fd0f3bd26"
      },
      "outputs": [
        {
          "output_type": "stream",
          "name": "stdout",
          "text": [
            "Requirement already satisfied: cfbd in /usr/local/lib/python3.10/dist-packages (4.5.2)\n",
            "Requirement already satisfied: certifi>=2017.4.17 in /usr/local/lib/python3.10/dist-packages (from cfbd) (2024.7.4)\n",
            "Requirement already satisfied: python-dateutil>=2.1 in /usr/local/lib/python3.10/dist-packages (from cfbd) (2.8.2)\n",
            "Requirement already satisfied: six>=1.10 in /usr/local/lib/python3.10/dist-packages (from cfbd) (1.16.0)\n",
            "Requirement already satisfied: urllib3>=1.23 in /usr/local/lib/python3.10/dist-packages (from cfbd) (2.0.7)\n"
          ]
        }
      ],
      "source": [
        "!pip install cfbd --upgrade\n",
        "\n",
        "import numpy as np\n",
        "import pandas as pd\n",
        "import cfbd\n",
        "from sklearn.linear_model import LogisticRegression\n",
        "from sklearn.model_selection import cross_val_score\n",
        "from sklearn.model_selection import train_test_split\n",
        "configuration = cfbd.Configuration()\n",
        "configuration.api_key['Authorization'] = 'Put key here'\n",
        "configuration.api_key_prefix['Authorization'] = 'Bearer'\n",
        "\n",
        "api_config = cfbd.ApiClient(configuration)"
      ]
    },
    {
      "cell_type": "markdown",
      "source": [
        "**Importing Data and Team Names**"
      ],
      "metadata": {
        "id": "IHjj90FNmN8C"
      }
    },
    {
      "cell_type": "code",
      "source": [
        "response = games = cfbd.GamesApi(api_config).get_games(year=2023, season_type='regular')\n",
        "\n",
        "data = pd.DataFrame.from_records([g.to_dict() for g in games])\n",
        "\n",
        "\n",
        "data = data[\n",
        "    (pd.notna(data['home_conference']))\n",
        "    & (pd.notna(data['away_conference']))\n",
        "]\n",
        "\n",
        "data.head()\n",
        "\n",
        "data.columns.values\n",
        "\n",
        "team_names = ('Notre Dame', 'Mercer', 'Jacksonville State', 'San Diego State',\n",
        "       'New Mexico State', 'Albany', 'Jackson State', 'Vanderbilt', 'USC',\n",
        "       'Louisiana Tech', 'New Haven', 'Hiram', 'Lamar',\n",
        "       'Texas A&M-Commerce', 'Kennesaw State', 'Morehead State',\n",
        "       'Northwood (MI)', 'Rowan', 'Alderson-Broaddus', 'Wingate',\n",
        "       'Barton College', 'UNC Pembroke', 'Saginaw Valley',\n",
        "       'Charleston Southern', 'Furman', 'Indiana State', 'Samford',\n",
        "       'Stony Brook', 'Georgia State', 'Western Michigan', 'Lincoln (PA)',\n",
        "       'Minot State', 'Sioux Falls', 'Wayne State (NE)', 'Buffalo State',\n",
        "       'Campbell', 'McMurry', 'Belhaven College', 'Bemidji State',\n",
        "       'Millersville', 'Wheeling Jesuit', 'Quincy', 'Northeastern State',\n",
        "       'West Georgia', 'West Alabama', 'Walsh', 'Indiana (PA)',\n",
        "       'Southern Arkansas', 'Southwestern Oklahoma', 'Southern Nazarene',\n",
        "       'UCF', 'Charleston (WV)', 'Fairmont State', 'Minnesota-Duluth',\n",
        "       'Northwestern Oklahoma State', 'Missouri S&T', 'Wake Forest',\n",
        "       'Lakeland University', 'Kentucky State', 'East Stroudsburg',\n",
        "       'Ferris State', 'Concordia-St. Paul', 'Connecticut',\n",
        "       'Youngstown State', 'UAB', 'Tulsa', 'Missouri', 'Utah',\n",
        "       'South Dakota State', 'Lindenwood', 'Abilene Christian',\n",
        "       'Beloit College', 'Eastern New Mexico', 'Minnesota',\n",
        "       'Oklahoma Baptist', 'Colorado Mines', 'Emporia State',\n",
        "       'Weber State', 'Missouri Western', 'Central Oklahoma',\n",
        "       'Missouri Southern State', 'Pittsburg State', 'Henderson State',\n",
        "       'Arizona State', 'Nichols', 'West Florida', 'Eastern Michigan',\n",
        "       'Miami', 'Michigan State', 'Muhlenberg', 'Worcester Polytechnic',\n",
        "       'Catholic University', 'Curry', 'Lebanon Valley', 'Alfred',\n",
        "       'Ursinus', 'Georgia Tech', 'Kansas', 'Hardin-Simmons', \"Hawai'i\",\n",
        "       'St. Thomas (MN)', 'VMI', 'Nicholls', 'Texas Southern', 'Cal Poly',\n",
        "       'Western State', 'Capital', 'Marietta', 'Lehigh', 'Montana State',\n",
        "       'Westminster', 'Guilford', 'North Carolina Central',\n",
        "       'Central Connecticut', 'Duquesne', 'Mississippi Valley State',\n",
        "       'Lake Erie College', 'Notre Dame College', 'Concord', 'Holy Cross',\n",
        "       'Findlay', 'Western Connecticut State', 'Endicott College',\n",
        "       'Wilkes', 'College of New Jersey', 'Keystone', 'Kean',\n",
        "       'Alma College', 'NC Wesleyan', 'Otterbein', 'Rochester',\n",
        "       'Dean College', 'Shepherd', 'Shippensburg', 'Bentley', 'Kalamazoo',\n",
        "       'SUNY Cortland', 'Tiffin', 'Assumption', 'Boston College', 'SMU',\n",
        "       'Purdue', 'Liberty', 'Kentucky', 'Iowa', 'Oklahoma', 'TCU',\n",
        "       'Johns Hopkins', 'Michigan', 'MIT', 'Hilbert College', 'Tennessee',\n",
        "       'Georgetown', 'Stonehill', 'Washington & Lee',\n",
        "       'Castleton State College', 'Waynesburg', 'Bridgewater (VA)',\n",
        "       'Shenandoah', 'Hampden-Sydney', 'Western New England',\n",
        "       'Wilmington (OH)', 'Air Force', 'Misericordia', 'Muskingum',\n",
        "       'Widener', 'Dickinson', 'Gettysburg', 'University of New England',\n",
        "       'Delaware State', 'Apprentice School', 'WV Wesleyan',\n",
        "       'Baldwin-Wallace', 'Illinois State', 'Elizabeth City State',\n",
        "       'St. Vincent', 'Sewanee Univ. of the South', 'Husson',\n",
        "       'St. Johns (MN)', 'Grove City College', 'William Paterson',\n",
        "       'Franklin', 'Defiance', 'Centre', 'Augustana (SD)', 'Carthage',\n",
        "       'William Jewell College', 'Aurora', 'Ole Miss', 'Norfolk State',\n",
        "       'St. Norbert', 'Gustavus Adolphus', 'St. Olaf College',\n",
        "       'Hendrix College', 'Ohio', 'Augsburg', 'Dubuque', 'Concordia (IL)',\n",
        "       'Wisconsin-Eau Claire', 'Cornell College (IA)', 'Austin College',\n",
        "       'Temple', 'Iowa State', 'Chicago', 'Hamline', 'UW-River Falls',\n",
        "       'John Carroll', 'Concordia (WI)', 'Elmhurst', 'Montana',\n",
        "       'UW-Oshkosh', 'Oregon', 'Lane', 'Colorado Mesa', 'Hampton',\n",
        "       'Appalachian State', 'Indiana', 'North Dakota State', 'Washington',\n",
        "       'Texas', 'Cincinnati', 'Pittsburgh', 'Maryland', 'Wisconsin',\n",
        "       'Auburn', 'Western Kentucky', 'Cal Lutheran', 'La Verne',\n",
        "       'SUNY Maritime', 'UNLV', 'Pacific Lutheran', 'North Texas',\n",
        "       'Mississippi State', 'North Dakota', 'Puget Sound', 'Arkansas',\n",
        "       'Syracuse', 'Christopher Newport', 'Sacred Heart', 'Indianapolis',\n",
        "       'Benedict College', 'Berry College', 'Allen', 'Lenoir-Rhyne',\n",
        "       'Anderson (IN)', 'Manchester', 'James Madison', 'Georgia Southern',\n",
        "       'Marshall', 'Lock Haven', 'Livingstone', 'Fordham',\n",
        "       'Alabama State', 'Richmond', 'Slippery Rock', 'Charlotte',\n",
        "       'Georgia', 'Florida Atlantic', 'Florida International',\n",
        "       'OK Panhandle St', 'Loras College', 'Baylor', 'Rose-Hulman',\n",
        "       'Texas A&M', 'Houston', 'Murray State', 'Wisconsin Lutheran',\n",
        "       'Louisiana Monroe', 'Anna Maria College', 'Thiel College',\n",
        "       'Colorado State', 'Simpson College', 'Illinois College',\n",
        "       'Bluffton', 'Eureka College', 'Macalester', 'Kansas State',\n",
        "       'Memphis', 'Oklahoma State', 'Troy', 'North Alabama',\n",
        "       'Southern Mississippi', 'Southern Illinois', 'Penn State',\n",
        "       'Wyoming', 'Louisiana', 'Alabama', 'Illinois', 'Geneva College',\n",
        "       'North Carolina', 'Tulane', 'Colorado State-Pueblo', 'McNeese',\n",
        "       'George Fox University', 'Wartburg', 'Western New Mexico',\n",
        "       'Virginia Tech', 'UTEP', 'Pacific (OR)', 'Arizona', 'BYU', 'UCLA',\n",
        "       'Rutgers', 'Florida A&M', 'San José State', 'Morehouse',\n",
        "       'Tuskegee', 'Florida State', 'Duke', 'North Central',\n",
        "       'Fresno State', 'Boise State', 'Texas Tech', 'Old Dominion',\n",
        "       'Northern Illinois', 'Utah State', 'Northwestern', 'Rice',\n",
        "       'West Virginia', 'Ohio State', 'LSU', 'Washburn', 'Mars Hill',\n",
        "       'East Central', 'Louisville', 'Fort Hays State',\n",
        "       'Northwest Missouri State', 'Westfield State', 'Bridgewater State',\n",
        "       'Franklin & Marshall', 'Rhode Island', 'St Lawrence',\n",
        "       'Mass Maritime', 'Davidson', 'Salve Regina', 'West Liberty',\n",
        "       'Juniata', 'Virginia', 'Limestone', 'Albright', 'Coast Guard',\n",
        "       'Rensselaer', 'Plymouth State', 'Seton Hill College', 'Edinboro',\n",
        "       'California (PA)', 'Mount St. Joseph', 'Shorter', 'Pace',\n",
        "       'Springfield', 'Gannon', 'Davenport', 'NC State', 'Colorado',\n",
        "       'Southern Connecticut State', 'Army', 'Dayton', 'Greenville',\n",
        "       'Post University', 'St. John Fisher', 'Hartwick', 'Bethany (WV)',\n",
        "       'Shaw', 'Johnson C Smith', 'Wayne State (MI)', 'Truman State',\n",
        "       'Michigan Tech', 'Northern Michigan', 'Clarion', 'Hobart',\n",
        "       'DePauw', 'Wooster', 'Randolph-Macon', 'Ohio Wesleyan',\n",
        "       'Southern Virginia', 'Chowan', 'Bluefield', 'Utica',\n",
        "       'Carnegie Mellon', 'Westminster PA', 'Minnesota St-Moorhead',\n",
        "       'Hope', 'Allegheny', 'Stevenson', 'Adrian', 'University of Mary',\n",
        "       'Kenyon', 'Southwest Baptist', 'Lycoming',\n",
        "       'Worcester State College', 'Sul Ross State', 'Merchant Marine',\n",
        "       'Susquehanna', 'McDaniel College', 'Ohio Northern',\n",
        "       'Central Michigan', 'Rhodes', 'Clark Atlanta', 'Winona State',\n",
        "       'Grinnell', 'Central Missouri State', 'New Mexico Highlands',\n",
        "       'Wheaton College (Ill)', 'Carleton', 'McKendree', 'Virginia State',\n",
        "       'South Dakota', 'Bowling Green', 'Millsaps', 'Coe',\n",
        "       'Illinois Wesleyan', 'Wisconsin-Stevens Point', 'Bethel (MN)',\n",
        "       'Maryville TN', 'Crown College', 'Oberlin', 'Knox College',\n",
        "       'Rockford', 'Martin Luther College', 'UW-Whitewater',\n",
        "       'Chadron State', 'Northwestern (MN)', 'Wisconsin-La Crosse',\n",
        "       'Monmouth (IL)', 'Clemson', 'Western Carolina', 'The Citadel',\n",
        "       'Luther', 'Fitchburg State', 'UT San Antonio', 'Toledo', 'UMass',\n",
        "       'Ohio Dominican', 'St. Anselm', 'Navy', 'Western Illinois',\n",
        "       'Northern Colorado', 'Bethune-Cookman', 'Merrimack', 'San Diego',\n",
        "       'Concordia (MN)', 'East Carolina', 'Edward Waters',\n",
        "       'Lewis & Clark', 'UMass Dartmouth', 'Northern Iowa',\n",
        "       'South Alabama', 'East Tennessee State', 'Robert Morris', 'Akron',\n",
        "       'Towson', 'Gardner-Webb', 'Bucknell', 'Bryant', 'LaGrange College',\n",
        "       'Albany State (GA)', 'Mercyhurst', 'West Virginia State',\n",
        "       'Fayetteville State', 'Methodist', 'Averett', 'Catawba', 'Buffalo',\n",
        "       'Southwest Minnesota State', 'William & Mary', 'Villanova',\n",
        "       'Chattanooga', 'Ferrum', 'Howard', 'Nevada', 'Stephen F. Austin',\n",
        "       'Prairie View', 'Tarleton State', 'Alabama A&M',\n",
        "       'Coastal Carolina', 'South Florida', 'Arkansas State',\n",
        "       'North Carolina A&T', 'Tennessee State', 'Southern', 'UT Martin',\n",
        "       'Arkansas Tech', 'Grand Valley State', 'Arkansas-Monticello',\n",
        "       'Southeastern Oklahoma', 'Ouachita Baptist', 'Ashland',\n",
        "       'Angelo State', 'Lincoln (MO)', 'Northern State',\n",
        "       'Minnesota State', 'Newberry', 'Buena Vista', 'Trinity (TX)',\n",
        "       'Carroll (WI)', 'Huntingdon', 'Trine', 'Minnesota-Morris',\n",
        "       'Denison', 'American International', 'Eastern University',\n",
        "       'Southeast Missouri State', 'Washington State', 'South Carolina',\n",
        "       'Florida', 'Midwestern State', 'Southwestern University',\n",
        "       'Harding', 'Texas A&M-Kingsville', 'Nebraska-Kearney',\n",
        "       'East Texas Baptist', 'Sam Houston State', 'New Mexico',\n",
        "       'West Texas A&M', 'Utah Tech', 'Oregon State', 'Sacramento State',\n",
        "       'California', 'Union', 'Kent State', 'Morrisville State',\n",
        "       'Glenville State', 'Kutztown', 'Alfred State College', 'Gallaudet',\n",
        "       'Hamilton', 'FDU-Florham', 'West Chester', 'Framingham State',\n",
        "       'Albion', 'Yale', 'Lafayette', 'Monmouth', 'Bowie State',\n",
        "       'Harvard', 'Birmingham-Southern', 'Mary Hardin-Baylor',\n",
        "       'Frostburg State', 'Marist', 'Olivet College', 'Montclair State',\n",
        "       'Alvernia University', \"King's College (PA)\", 'Williams',\n",
        "       'Washington & Jefferson', 'Bates College', 'Moravian',\n",
        "       'Greensboro', 'Colgate', 'Trinity (CT)', 'Ball State', 'Millikin',\n",
        "       'Lake Forest', 'Central', 'Nebraska Wesleyan University', 'Ripon',\n",
        "       'Salisbury', 'North Park', 'Middlebury', 'Bloomsburg',\n",
        "       'St. Scholastica', 'UW-Stout', 'Wisconsin-Platteville',\n",
        "       'Upper Iowa', 'Lawrence', 'Benedictine (IL)', 'Eastern Illinois',\n",
        "       'South Dakota Mines', 'Claremont', 'Maine', 'Eastern Washington',\n",
        "       'Northern Arizona', 'Fort Lewis', 'Arkansas-Pine Bluff',\n",
        "       'Winston-Salem', 'Fort Valley State', 'Savannah State',\n",
        "       \"St. Augustine's\", 'Brevard College', 'Eastern Kentucky',\n",
        "       'Delaware', 'Morgan State', 'Butler', 'Idaho State',\n",
        "       'New Hampshire', 'Elon', 'Wofford', 'Wittenberg',\n",
        "       'Middle Tennessee', 'Nebraska', 'Kentucky Wesleyan',\n",
        "       'North Greenville', 'Augustana (IL)', 'Case Western Reserve',\n",
        "       'Delta State', 'Northwestern State', 'Alcorn State',\n",
        "       'Tennessee Tech', 'Austin Peay', 'Black Hills State', 'Stanford',\n",
        "       'Mississippi College', 'Texas State', 'Central Washington',\n",
        "       'Chapman', 'Redlands', 'UC Davis', 'Pomona-Pitzer', 'Princeton',\n",
        "       'Brockport State (NY)', 'Stetson', 'St Francis (PA)', 'Columbia',\n",
        "       'Valparaiso', 'Delaware Valley', 'Emory & Henry', 'Central State',\n",
        "       'Bowdoin', 'Amherst College', 'Wesleyan', 'Colby', 'Carson-Newman',\n",
        "       'Mount Union', 'Hanover', 'Heidelberg', 'Dartmouth', 'UVA-Wise',\n",
        "       'Norwich', 'Washington (MO)', 'Wabash College', 'Missouri State',\n",
        "       'Grambling', 'Miami (OH)', 'Wagner', 'Portland State', 'Tusculum',\n",
        "       'Hillsdale', 'Idaho', 'Western Oregon', 'Miles',\n",
        "       'South Carolina State', 'Franklin Pierce', 'Erskine',\n",
        "       'Virginia Union', 'Tufts', 'Southeastern Louisiana',\n",
        "       'Valdosta State', 'University of Texas of the Permian Basin',\n",
        "       'Central Arkansas', 'Southern Utah', 'Adams State', 'Brown',\n",
        "       'Long Island University', 'Ithaca', 'Pennsylvania', 'Cornell',\n",
        "       'Whitworth', 'Linfield', 'Houston Christian',\n",
        "       'Presbyterian College', 'Texas Lutheran', 'Howard Payne', 'Drake',\n",
        "       'Willamette', 'Incarnate Word')\n",
        "final_data = pd.DataFrame()"
      ],
      "metadata": {
        "id": "kejOREFqoIHz"
      },
      "execution_count": 5,
      "outputs": []
    },
    {
      "cell_type": "markdown",
      "source": [
        "**Creating Values**"
      ],
      "metadata": {
        "id": "nt6foR4omGtZ"
      }
    },
    {
      "cell_type": "code",
      "source": [
        "data[\"margin\"] = data[\"home_points\"] - data[\"away_points\"]\n",
        "\n",
        "final_team = pd.DataFrame()\n",
        "wins = 0\n",
        "losses = 0\n",
        "c_wins = 0\n",
        "c_losses = 0\n",
        "margin = 0\n",
        "total_games = 0\n",
        "conference = ''\n",
        "for team_name in team_names:\n",
        "  points_scored = 0\n",
        "  points_against = 0\n",
        "  eilo = 0\n",
        "  data[\"margin\"] = data[\"home_points\"] - data[\"away_points\"]\n",
        "  data\n",
        "  team = data.loc[(data['home_team'] == team_name) | (data['away_team'] == team_name)]\n",
        "  team\n",
        "  main_team = pd.DataFrame()\n",
        "  for index, row in team.iterrows():\n",
        "    if row[\"home_team\"] == team_name:\n",
        "      points_scored = points_scored + row['home_points']\n",
        "      points_against = points_against + row['away_points']\n",
        "      total_games +=1\n",
        "      eilo = eilo + row[\"home_pregame_elo\"]\n",
        "      if row[\"home_points\"] >  row[\"away_points\"]:\n",
        "        if row[\"conference_game\"] == True:\n",
        "          c_wins +=1\n",
        "        wins +=1\n",
        "      elif row[\"home_points\"] <  row[\"away_points\"]:\n",
        "        if row[\"conference_game\"] == True:\n",
        "          c_losses +=1\n",
        "        losses +=1\n",
        "      margin += row[\"margin\"]\n",
        "      conference = row['home_conference']\n",
        "    elif row[\"away_team\"] == team_name:\n",
        "      points_against = points_against + row['home_points']\n",
        "      points_scored = points_scored + row['away_points']\n",
        "      eilo = eilo + row[\"away_pregame_elo\"]\n",
        "      total_games +=1\n",
        "      if row[\"home_points\"] <  row[\"away_points\"]:\n",
        "        if row[\"conference_game\"] == True:\n",
        "          c_wins +=1\n",
        "        wins +=1\n",
        "      elif row[\"home_points\"] >  row[\"away_points\"]:\n",
        "        if row[\"conference_game\"] == True:\n",
        "          c_losses +=1\n",
        "        losses +=1\n",
        "      margin += row[\"margin\"]\n",
        "      conference = row['away_conference']\n",
        "      #points_scored = points_scored / total_games\n",
        "     # points_against = points_against / total_games\n",
        "  main_team = pd.DataFrame({\n",
        "      \"team\": [team_name],\n",
        "      \"wins\": [wins],\n",
        "      \"losses\": [losses],\n",
        "      \"c_wins\": [c_wins],\n",
        "      \"c_losses\": [c_losses],\n",
        "      'conference': [conference],\n",
        "      'points_scored': [points_scored],\n",
        "      'points_against': [points_against],\n",
        "      \"margin\": [margin],\n",
        "      'eilo': [eilo],\n",
        "      })\n",
        "  final_team = pd.concat([final_team, main_team], ignore_index=True)\n",
        "  wins = 0\n",
        "  losses = 0\n",
        "  c_wins = 0\n",
        "  c_losses = 0\n",
        "  margin = 0\n",
        "  total_games = 0"
      ],
      "metadata": {
        "id": "Y3HJjGyYcf2D",
        "collapsed": true
      },
      "execution_count": 7,
      "outputs": []
    },
    {
      "cell_type": "markdown",
      "source": [
        "**Creating the Ranking System**"
      ],
      "metadata": {
        "id": "We5DXKvqnzzL"
      }
    },
    {
      "cell_type": "code",
      "source": [
        "FBS = final_team.loc[(final_team['conference'] == \"SEC\") | (final_team['conference'] == \"Sun Belt\") |(final_team['conference'] == \"Big Ten\")\n",
        "| (final_team['conference'] == \"Pac-12\") | (final_team['conference'] == 'Conference USA') | (final_team['conference'] == \"FBS Independents\") |\n",
        "                     (final_team['conference'] == \"ACC\")| (final_team['conference'] == \"Mountain West\") | (final_team['conference'] == \"Big 12\") | (final_team['conference'] == \"Mid American\")\n",
        "                     | (final_team['conference'] == \"American Athletic\")]\n",
        "FBS = FBS.sort_values(by=['wins', \"margin\", \"c_wins\"], ascending=False)\n",
        "FBS.head(25)\n",
        "FBS['points_scored'] = FBS['points_scored'] / 13\n",
        "FBS['points_against'] = FBS['points_against'] / 13\n",
        "FBS['eilo'] = FBS['eilo'] / 13\n",
        "FBS[\"points\"] = FBS[\"margin\"] + (FBS[\"wins\"] * 0.01 + FBS[\"c_wins\"] * 0.1) - (FBS[\"losses\"] * 200 + FBS[\"c_losses\"] * 200) + (FBS[\"points_scored\"] * 13 - FBS[\"points_against\"] * 13)  * (FBS[\"eilo\"] * 0.001)\n",
        "FBS = FBS.sort_values(by='points', ascending=False)\n",
        "FBS[\"rank\"] = range(1, len(FBS) + 1)\n",
        "FBS = FBS.round(1)\n",
        "FBS = FBS.head(25)\n",
        "\n",
        "FBS"
      ],
      "metadata": {
        "id": "AIwSgaQGWIZi"
      },
      "execution_count": null,
      "outputs": []
    },
    {
      "cell_type": "markdown",
      "source": [
        "**EXTRA: Logistic Regression**"
      ],
      "metadata": {
        "id": "u33T_wYIJGn1"
      }
    },
    {
      "cell_type": "code",
      "source": [
        "Training_Data = FBS.head(4)\n",
        "\n",
        "FBS_New = FBS[['wins', 'losses', 'c_wins', 'c_losses',\n",
        "       'points_scored', 'points_against', 'margin', 'eilo', 'points',\n",
        "       'rank']]\n",
        "Training_Data[\"home\"] = Training_Data[\"team\"]\n",
        "Training_Data[\"away\"] = \"Washington\"\n",
        "Team_1_Name = 'Michigan'\n",
        "Team_2_Name = 'Florida State'\n",
        "Team_3_Name = 'Washington'\n",
        "Team_4_Name = 'Liberty'\n",
        "Home = Team_1_Name, Team_2_Name, Team_4_Name, Team_3_Name, Team_1_Name, Team_2_Name, Team_3_Name, Team_1_Name, Team_4_Name, Team_3_Name, Team_4_Name, Team_2_Name, Team_3_Name, Team_2_Name, Team_1_Name, Team_4_Name\n",
        "Away = Team_3_Name, Team_3_Name, Team_3_Name, Team_3_Name, Team_4_Name, Team_4_Name, Team_4_Name, Team_2_Name, Team_2_Name, Team_2_Name, Team_1_Name, Team_1_Name, Team_1_Name, Team_2_Name, Team_1_Name, Team_4_Name\n",
        "Training_Labels = pd.DataFrame()\n",
        "Training_Labels = Team_1_Name, Team_2_Name, Team_3_Name, Team_4_Name\n",
        "First_Match_Home = [Home]\n",
        "Second_Match_Home = [Away]\n",
        "schedule = pd.DataFrame({\n",
        "  \"home\": Home,\n",
        "  \"away\": Away\n",
        "})\n",
        "Training_Data = Training_Data[['wins', 'losses', 'c_wins', 'c_losses', 'conference',\n",
        "       'points_scored', 'points_against', 'margin', 'eilo', 'points', 'rank',\n",
        "       'home', 'away']]\n",
        "schedule"
      ],
      "metadata": {
        "id": "YvrM01Lko3dF"
      },
      "execution_count": null,
      "outputs": []
    },
    {
      "cell_type": "code",
      "source": [
        "logreg = LogisticRegression(max_iter=1000)\n",
        "logreg.fit(FBS_New, Training_Labels)"
      ],
      "metadata": {
        "id": "fIFMprYvyjna"
      },
      "execution_count": null,
      "outputs": []
    },
    {
      "cell_type": "code",
      "source": [
        "Schedule_Final = pd.DataFrame()\n",
        "Schedule_Final = Training_Data.merge(schedule, on=[\"home\", \"away\"])\n",
        "Schedule_Final\n",
        "upcoming_game_probabilities = logreg.predict_proba(FBS_New)\n",
        "upcoming_game_probabilities"
      ],
      "metadata": {
        "id": "vSWcKQb70u0Y"
      },
      "execution_count": null,
      "outputs": []
    },
    {
      "cell_type": "code",
      "source": [
        "upcoming_game_prob_home_win = upcoming_game_probabilities[:, 1]\n",
        "\n",
        "# Add the predictions to the upcoming games dataframe\n",
        "Schedule_Final['HomeWinProbability'] = upcoming_game_prob_home_win\n",
        "\n",
        "# Sort by the probability of the home team winning for better visualization\n",
        "upcoming_predictions = Schedule_Final[['home', 'away', 'HomeWinProbability']].sort_values(by='HomeWinProbability', ascending=False)\n",
        "\n",
        "upcoming_predictions"
      ],
      "metadata": {
        "id": "L9YuKMWW3VmC"
      },
      "execution_count": null,
      "outputs": []
    }
  ]
}